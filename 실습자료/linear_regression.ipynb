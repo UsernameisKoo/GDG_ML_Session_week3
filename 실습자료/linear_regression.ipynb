{
  "nbformat": 4,
  "nbformat_minor": 0,
  "metadata": {
    "colab": {
      "private_outputs": true,
      "provenance": [],
      "toc_visible": true,
      "mount_file_id": "1e1OY-bT-NoCN0DC1_sdk7Rj-BxNxLeZ3",
      "authorship_tag": "ABX9TyOgoiK5gBK//LZwl77qt09/",
      "include_colab_link": true
    },
    "kernelspec": {
      "name": "python3",
      "display_name": "Python 3"
    },
    "language_info": {
      "name": "python"
    }
  },
  "cells": [
    {
      "cell_type": "markdown",
      "metadata": {
        "id": "view-in-github",
        "colab_type": "text"
      },
      "source": [
        "<a href=\"https://colab.research.google.com/github/UsernameisKoo/GDG_ML_Session_week3/blob/main/%EC%8B%A4%EC%8A%B5%EC%9E%90%EB%A3%8C/linear_regression.ipynb\" target=\"_parent\"><img src=\"https://colab.research.google.com/assets/colab-badge.svg\" alt=\"Open In Colab\"/></a>"
      ]
    },
    {
      "cell_type": "markdown",
      "source": [
        "# **문제 1. 손실함수가 MSE일 때의 가중치 벡터 w에 대한 경사하강법 업데이트 식을 적으시오.**\n",
        "\n",
        "( 이미지를 삽입해도 좋고 직접 타이핑해도 좋음. 방법은 상관 X )\n",
        "\n",
        "\n",
        "\n"
      ],
      "metadata": {
        "id": "rYdLZPA__SAZ"
      }
    },
    {
      "cell_type": "markdown",
      "source": [],
      "metadata": {
        "id": "BiBRz1USBjX5"
      }
    },
    {
      "cell_type": "markdown",
      "source": [
        "\n",
        "# **문제 2. 선형회귀 모델 만들기**\n",
        "\n",
        "---\n",
        "\n",
        "### **데이터셋 : The Boston Housing Dataset**\n",
        "### **url :** https://lib.stat.cmu.edu/datasets/boston\n",
        "\n"
      ],
      "metadata": {
        "id": "DupjHZe5uxvb"
      }
    },
    {
      "cell_type": "markdown",
      "source": [
        "## **모델**\n",
        "#### **입력변수 :** RM (평균 객실 수)\n",
        "#### **출력변수 :** PRICE (부동산 가격)"
      ],
      "metadata": {
        "id": "kG-jASFzwFCR"
      }
    },
    {
      "cell_type": "markdown",
      "source": [
        "##  2 - 1) 필요 라이브러리 선언"
      ],
      "metadata": {
        "id": "ARXbDhMK6cI9"
      }
    },
    {
      "cell_type": "code",
      "source": [],
      "metadata": {
        "id": "XOdK3ssaxqyY"
      },
      "execution_count": null,
      "outputs": []
    },
    {
      "cell_type": "markdown",
      "source": [
        "##   2 - 2) 학습용 데이터 준비"
      ],
      "metadata": {
        "id": "XqMuj9Jj6KIS"
      }
    },
    {
      "cell_type": "code",
      "source": [
        "# csv 파일\n",
        "\n",
        "# 6번째 RM\n",
        "\n",
        "\n",
        "# 더미 변수 1 추가\n",
        "\n",
        "# 14번째 PRICE\n"
      ],
      "metadata": {
        "id": "wbmdsj6rOTUG"
      },
      "execution_count": null,
      "outputs": []
    },
    {
      "cell_type": "markdown",
      "source": [
        "## 2 - 3) 입력값 정답값 확인"
      ],
      "metadata": {
        "id": "-rCnoHtA7Vfl"
      }
    },
    {
      "cell_type": "markdown",
      "source": [
        "### 2.3.0 ) [ x0, x1 ]값 5개 출력"
      ],
      "metadata": {
        "id": "TSgw6Jx4-0r3"
      }
    },
    {
      "cell_type": "code",
      "source": [
        "# [ x0, x1 ]값 5개 출력\n"
      ],
      "metadata": {
        "id": "kxuQvIv0xq8r"
      },
      "execution_count": null,
      "outputs": []
    },
    {
      "cell_type": "markdown",
      "source": [
        "### 2.3.1 ) 정답값 yt 5개 표시"
      ],
      "metadata": {
        "id": "hy_5yqMQ-8FT"
      }
    },
    {
      "cell_type": "code",
      "source": [
        "# 정답값 yt 5개 표시\n"
      ],
      "metadata": {
        "id": "x6dZWHAB_B_z"
      },
      "execution_count": null,
      "outputs": []
    },
    {
      "cell_type": "markdown",
      "source": [
        "## 2 - 4 ) 방 개수와 집 가격의 관계를 산점도로 보기\n",
        "(x축 이름 ROOM, y축 이름 PRICE)"
      ],
      "metadata": {
        "id": "crJ8X9mfmk56"
      }
    },
    {
      "cell_type": "code",
      "source": [],
      "metadata": {
        "id": "GhsrRABamiC4"
      },
      "execution_count": null,
      "outputs": []
    },
    {
      "cell_type": "markdown",
      "source": [
        "## 2 - 5 ) 경사하강법에서의 초기화 처리\n",
        "( 반복 횟수는 50000번, 학습률은 0.01로 설정 )"
      ],
      "metadata": {
        "id": "R2QkVRMl7ttu"
      }
    },
    {
      "cell_type": "code",
      "source": [
        "# 데이터 전체 건수\n",
        "\n",
        "# 입력 데이터의 차수(더미)\n",
        "\n",
        "# 반복 횟수\n",
        "\n",
        "# 학습률\n",
        "\n",
        "# 가중치 벡터의 초깃값(모든 값을 1로 한다)\n",
        "\n",
        "# 평가 결과 기록(손실함수의 값만 기록)"
      ],
      "metadata": {
        "id": "lSNz7Fqb8Ku2"
      },
      "execution_count": null,
      "outputs": []
    },
    {
      "cell_type": "markdown",
      "source": [
        "### 2 - 6 ) (1, x)의 값에서 예측값 yp를 계산하는 함수 생성"
      ],
      "metadata": {
        "id": "Si7CK6uM7gBx"
      }
    },
    {
      "cell_type": "code",
      "source": [
        "def pred(x, w):"
      ],
      "metadata": {
        "id": "ppNRmFmD7o_-"
      },
      "execution_count": null,
      "outputs": []
    },
    {
      "cell_type": "markdown",
      "source": [
        "## 2 - 7 ) 반복 루프\n",
        "(반복횟수가 1000의 배수일 때마다 계산 결과 기록하고 화면에 출력하시오.)"
      ],
      "metadata": {
        "id": "ah5sU1qG8N3G"
      }
    },
    {
      "cell_type": "code",
      "source": [
        "for k in range(iters):\n",
        "\n",
        "    # 예측값 계산\n",
        "\n",
        "    # 오차 계산\n",
        "\n",
        "    # 경사하강법 적용\n",
        "\n",
        "    # 학습 곡선을 그리기 위한 데이터 계산 및 저장\n",
        "\n",
        "        # 손실함숫값의 계산\n",
        "\n",
        "        # 계산 결과의 기록\n",
        "\n",
        "        # 화면 표시\n",
        ""
      ],
      "metadata": {
        "id": "g4iW81yV8RPy"
      },
      "execution_count": null,
      "outputs": []
    },
    {
      "cell_type": "markdown",
      "source": [
        "## 2 - 8 ) 최종 손실함수 초깃값과 최종값 출력\n",
        "\n",
        "\n"
      ],
      "metadata": {
        "id": "oORNHExI8my5"
      }
    },
    {
      "cell_type": "code",
      "source": [],
      "metadata": {
        "id": "LZjPVPOh8vDm"
      },
      "execution_count": null,
      "outputs": []
    },
    {
      "cell_type": "markdown",
      "source": [
        "## 2 - 9 ) 학습 곡선을 표시\n",
        "( x축 이름 iter, y축 이름 loss로 설정 )"
      ],
      "metadata": {
        "id": "3coXJcz28081"
      }
    },
    {
      "cell_type": "code",
      "source": [],
      "metadata": {
        "id": "lJWNMP-F80mV"
      },
      "execution_count": null,
      "outputs": []
    }
  ]
}