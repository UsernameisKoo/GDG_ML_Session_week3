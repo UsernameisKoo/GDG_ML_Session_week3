{
  "nbformat": 4,
  "nbformat_minor": 0,
  "metadata": {
    "colab": {
      "private_outputs": true,
      "provenance": [],
      "mount_file_id": "1e1OY-bT-NoCN0DC1_sdk7Rj-BxNxLeZ3",
      "authorship_tag": "ABX9TyPqc6pExxsXipdLoc1v6hSO",
      "include_colab_link": true
    },
    "kernelspec": {
      "name": "python3",
      "display_name": "Python 3"
    },
    "language_info": {
      "name": "python"
    }
  },
  "cells": [
    {
      "cell_type": "markdown",
      "metadata": {
        "id": "view-in-github",
        "colab_type": "text"
      },
      "source": [
        "<a href=\"https://colab.research.google.com/github/UsernameisKoo/GDG_ML_Session_week3/blob/main/%EC%8B%A4%EC%8A%B5%EC%9E%90%EB%A3%8C/linear_regression_answer.ipynb\" target=\"_parent\"><img src=\"https://colab.research.google.com/assets/colab-badge.svg\" alt=\"Open In Colab\"/></a>"
      ]
    },
    {
      "cell_type": "markdown",
      "source": [
        "# **문제 1. 가중치 벡터 w에 대한 경사하강법 업데이트 식을 적으시오.**\n",
        "\n",
        "( 이미지를 삽입해도 좋고 직접 타이핑해도 좋음. 방법은 상관 X )\n",
        "\n",
        "\n",
        "\n"
      ],
      "metadata": {
        "id": "rYdLZPA__SAZ"
      }
    },
    {
      "cell_type": "code",
      "source": [
        "from google.colab import drive\n",
        "drive.mount('/content/drive')"
      ],
      "metadata": {
        "id": "8fadmeqlscCL"
      },
      "execution_count": null,
      "outputs": []
    },
    {
      "cell_type": "markdown",
      "source": [
        "![3fc3734dc137add8ade0a4de8980c41fa33a5352_s2_n2_y1.png](data:image/png;base64,iVBORw0KGgoAAAANSUhEUgAAAhQAAACSCAYAAAAdDFMJAAAABGdBTUEAALGPC/xhBQAAWKZJREFUeJzt3XWcFPUbwPHPxPbt9dHdoAjSJRioINjd/uzu7sJWVBSxG8UWOwEJQUK682i4zo2ZeX5/7J0i3h0HXCHf9+t1IuzM7nd292ae+cbzaCIiKIqiKIqi7AW9thugKIqiKMq+TwUUiqIoiqLsNRVQKIqiKIqy11RAoSiKoijKXlMBhaIoiqIoe00FFIqiKIqi7DUVUCiKoiiKstdUQKEoiqIoyl5TAYWiKIqiKHtNBRSKoiiKouw1FVAoiqIoirLXVEChKIqiKMpeUwGFoiiKoih7TQUUiqIoiqLsNRVQKIqiKIqy11RAoSiKstuk5M9C2DyRGRNmMGtN4U7bRCGaQfqSOfz650ZWy87PoSj/LSqgUBRF2SMOFK3kmwuHccvhhzDk4F4c9PB3TACQIrZ8/zL/O6wVQ/t3Z3i3A+nY4BAOefQ3ptV2sxWlmqiAQlEUZbcIsB1Yyra5C3k3/1m+//Qi1r/WAPu18xjSuCta6w+5+YdU7v0uj/lZDkWrHmTFiVOY+dZXnHnpNDIAB9Vlofy3qIBCURRlt22DDWMZfq9O/Ysvwd+/Jes25LEyy02kOJkepx7OkyPPoGUQDAQSNNJSUzFzbdIXZbNKALTaPghFqVIqoFAURdktGrAE3h3BkpQDSe4HxLsomDgLw9cdho5m3EMtaPDX9jq4PPjismksW8GdTG5InXyV/x71nVYURdldVlvIH8y1l3Xm1HZA+jamT4ViTwfantiBVu6d+h+i2/ljok26EwftW9HeV0vtVpRqZNZ2AxRFUfY5Zld45EfuA0xsonMnkWkDaSdxe/8ytt+ylSVrIaQ3pN3A+jQHEAFNDXso/x2qh0JRFGWPaLhx0FnDjPELWZ4PNAnSv+HO20XI/nki85YB8QmcclTp7iqYUP5bVA+FouzX8gEhXGCRkxkhpEXxJiQRTIjDFHBrAAKiqTmEZSqCrB/ZMNdgttUVz9AWJP/jcQuYzqLvVrAYFwwfwOmpfz8qqLdV+e9QPRSKst8pXa6YDat+5p3hbWgTTKFJi4a0aN6MBolBAoGBNDzsWs58bwXLVDBRgQxYN51fl6WyLNCDQV08BP7x+HZY+RXjf9CYzZFcPPxgmgJOCLYsWUy2bddOsxWlGqiAQlH2K1FAA+s+Jh+WjNbmGc7/pieNBp7GLVdfzY1HNqIvQNGfFE96jY/P60KH5l1p9LHDxlpueV0jCLAOVs1modkSXM3o08nEteNG1nz48XW+9g0jo+kQjulvUgBkTPyFL5/6lHQxiNZO8xWlyqmAQlH2Ky4o/J1JXR/k0olNaHPRTTy97BtmTBrHI6NG8fSPU5gW+pL3zoV4wqQgeDatZ/Od99P349zabnwdtBH+WMwqGkGbXgxJAGPHhwtXwMxs1riToUtnmnpBc9IZcf87rO45kDRTdf4o/x0qoFCU/co0Vl/Sj0OzL6bl5PXMee0Erm234+MtwXMcZ7/zA9PuFPwiiJNM6pqnWH/bSQydXFvtrnscNNiymuhW2OZvCQMOpy87nVTdjaA1mPE28e5smq76mWUvPMrzvW9h2OWDaIyayKb8d6iAQlH2J3M/ZMbXgK83MxZBrlPeBa09re4ZzUP9wiRLFnFSTMLGP/n+5ZW8WrMtrpOk5IcNJvOmAF3bcsRJrn9v6GsK3c7GSE2laOMC3rnwJiZ/s5zn7zswNrSkKP8hmoiohPKKsl8oYOlDh/PsyJl8mw3rU3rS+NpnefXefgwtb5ePjuPaG75iXDZsc/eC5sM48LY7mH+Wa7/vqo+t0MhGNq1lmd2S1k0TKSOkAMDJz6GgKESGqx7xSTqp+/ubp/wnqR4KRdlP2LKedX/MJhKBZA+QvYqN367kwe8q2KllKzqnAQ4gYSjMZ8m0ZRTUTJPrtFhMkITW6GA6VBBMAOjBROLrN6BVsgomlP8uFVAoyn9erBPSsPMRI424RBchADMN8tJZsTIWL5QpkEyDVLDdxFIqRPLwbShmfZW1SlGU/woVUCjKf54G2GC2pVHHROKyooSjgCsVDBedmldwIjBdxAXBFMBl4NWLscJF5OzW65cdOqgbdUX5b1ETjBVlv2AASRz06FgKQt35bMxAvMm9OOrm23jnuAp2sx2KDYjqgB0iKiZeO4Je6RSPpYmb1sG21Xz4wSSm//Y7bQ8/l3b9BtH34BbE7eWRKYpSN6iAQlH2K13pN1KYefMqMtyNaJnmUGFHZU4G29aD2wHDpWMbSegt2lCvUsGEA9tX8vuoB3nk++/4fmY2KSZovgS2/JQFgXegzelcfuNxPHJcA5KMXT+joih1lxryUJT9SuxXPti4NS3TfFR8CgjBrPmsXB4b8rCtLeDrxPCzW9KqwtcQ4CcyxhzBCS060O+hWXyt3cVxYzfww7JtrFi/Cif9IX4461daTLmdMSedSfJ5P/JBbqw/45/zOVazZuojjFy5VwetKEoNUAGFoihlEHCW8seEJXxZqJHvxIH7QOh1EFcMqmg/B+wVTDtzCFdeMZEvi7rDgKv58vub+PTMxnRplUZcQiJa/GEcdftbvH1oNq34Ez4Zw1m3TGIVIDuGFB8/y3uH3cX3C4vLnziq7Jv2dlaumtVb56iAQlGUHTiAQ9haBwvGMmruZhaaDcg1D4GEI7jv3p70q2j30Mv8enR7bvlQ+IQBcOmrzJp8Dccl7biRAbof0s5n4K0XcUXrXBpGZsBPr3Lbn2CgE1tSsoFtYyfzp/8kGh3oU9eP/5q9nZWrZvXWOSqgUBRlB7GztEfmsGDEk3y83g1mcwj24pjn7ubuljvVqviHJcw+70pemAzzjQOQbufwyciD6V7Ry7VpxzE9IJlNsHUuX3y6krUAhCB/Dk/94uPHg07kgjagoypz/ldsXZNHVtae7VuYsY4/pq9UPVZ1kAooFEXh72TSGpDLuifu5KGPIWIfCEYHej53P+OGlz+LO2zNg08v5YHv4HOnBQWpA0i88DJO9u/iZZNa0rgBFHt0iAhMX8nKEMAsmPISr8UfR8NTz2EQIBWEMsq+IcR6ih7vRYObNzJxD8usBlLjSXz3Uu467Qp+sEAoqtpGKntMBRSKopQQII+cH67inruX8QUHIoldOfrRJ5h6SpS4cgcdInjWjePrh6YwKeQFbzto1JFrjqnES7ri8bY6kHo+B4wwbN7Eyg0Aeax96XuyG7bl3JNim+79yUoNmtSuCMa4EYx9bCZdD29P3/p78hwOEEe7kXfTdOYYhtyynlmURq3/8c93Lw+vJopsqGWjirJfKz3LOLH/X3ITHx77Ae9qR0HzAfR+4h4+P5UK00pDLvmvjmfsPAhqUfKiW6Df0VzVshIv703Ec1AXmpsLmR4RyJ/DFzkXcPnPb/Dd76BdfghXNt7bYwTW/cSEBy7iicwmrCvy0MjQcLsMQqEQHpeJrlm4XSa6K0hGZg5b0zdSVFREVNMQx8Z0u7EiFi6PC8eyQdexohamy8CxHDRDw7ac2N9tB03XsW0H0zQQ20EzdKJRC93QEFtwEBzLxuUysS1B03VEHAxDx7EFx7FwBLBD6OIgoiEIuulCHAeK8jF8XrR7tjHzpiDNquAtqh6xXi9hDtqmH+l1W5i889L58yqd+Ar2cshDL5rFPUfdz9yclvT84m3ubQOxsFIHdycu/PA0XujzGGO6vMhBF4DnPzmpYocoQBP2KqyugbdHBRSKogA6FH7HOwNe44VoIrTrz1mv3s37Ayuxa3gSb76/iPneZMJhE1z1OXRIeyp1A6oBAT/1NQAHQitZ+u1nzFu9hm+cftx1cj1S9+Ko/pK0Cn31eqZP2kQBHpaYYdB0/jphW1psckjpv0Uj6ICjlzTSkVhbS8/pFQ3gl25XHiP2uKZpsQRhOtg2IIKux3Y1Sv40PX5sTcdwolhouOwIUUdw2TpafojisR/x1pUXca9vr96dahULKRaw4bJ7mBv8iGfvbVphMAGgM5fiR4/mo6lHke0OkbNsJTe1aUPgry3i8fa+nw/+dxbHXnIHD/W5gbs71MNbrUdSG2JRwPb0XLzxAYKJuwoo/p1xrigrnfmroVePZtUeU6iAQlH2ayWnmOiTzBt0KzflDCWj9wX8PP40jqi3q30dIBOW/cjSIsgKJyFGMzA7M3BAZV/eA7bG+mgAH/kUF0+j+P1lHM3lhE48mi+67vGB/VP8UQy6ry3dDt/GOjQyfCaOCOgGaAYuO4gTbE63Rx7iwhMPpNmidNwuDUMcRAdT19ENsG1BxEbXTNAEXTNwHBtNN0AcQMNxLMBA0wRdNxCJJQ9zHAuX6cK2o6CZGFYh8fnL2bhqIZ/PzWPxoj/JXD6D7dmQFYIIIKaJY0cwPC50zUBzHLwGGH6TqHhh3S+M+/wibjgLglX0VlUtDQ2BHyfy2dcuWj02iLNTKrNfU3wN3WT4u1LYsg/3Htlih2ACwA90pMutp3Hz13dy3asXMvDpehxVHYdQq6bBA6dT77dvmfBVZw7d5fYaIqD9FTkI/uQkEp78Hw/dGmDIr2/TPJJDA3di9TRXFEXZTzklP2tk+QnI8SAcO11GZJe3fUhWLV0uK7dES/4eFZHlIl/3klO8SHKwpySZw4Q+78kvlW1CZLbIlPPk7BRNfFo98Xt8ktKwiTB4try+V8dWyil9IRGZLN8PCUhPTImPS5BAXLzExSVIfDBF0hLqSdDfXbpeO1tmVMnrVlZYROy//2oVimxaKRNee0IuH9JdujZJlVR/nPi9XvH4AhIfDEh8XEDik5LEl9hAEhPbC0d9XMNt3k1Fs2TSYd2kl+8ceWJ+7Fuza47Iut9l5colsqGizQpfkfXnIMSPkFNXVElr6xBL5NXz5JGkOOkxRsTao+ewJfbd/0VeroeknjtJfqrSNv6TmpSpKPulCLFcD9+RedPBtPv1er4c/gtLPuvNnYn/3tohEzLe5cVjruaOa2exCohiAhGs7AjigiwrTLbXJOXInnSrVBsEdBMIgFuISDzFrk4UNr2VR17sxoVVcpylt2ouoD9HjxvDTd0txAYx3OhoaE4UWyskoq9n7qdfce9bsIcLEPaAm3+Mixt+aNiaQy+6hZe+m8Wf67ewLSOdjb8/zQvnahyUX0ijUCFRcaPrXgwJY/zxDo9MqLEGV0rpmiFYDsueYczyNOb0voiubSrbLa5Bsz60bt2B8qbQCIC/Iw2PbEeHvCVMG72BLVXR+FonWCyHTU/S/448nj1rGRMvq2i5NkAeOFO4oedhHN/tAl7cWPrvOrHvfkcu/fk82r77Hu++mE5xNbVcBRSKsl8pHdx3AyGKn32SS5/JgUOv5bNPD6dDOWd7nXUw63O+zPAwt0lnhNKyXyFsTcNyALcJwUSadm2+G93vYaAYUwcbQcwO1D/2Kq5st+dHWD4N4g/l9Mf60NvMxXRsRNcQXcNxBK8ewl34HT889RpPb6+O198TBpovkcSu53Hxyyv49IsHOLI5JEa3UhjKQbOzSLKX8eWX61ha200t02LCn49lnNWdxKGH0rMK53rEQsUGGD2OY1DiBkJj3+WTjKp7/toigMlCNlxwB9MaXs59TzXaabinLAvIvvkQvpolzPxzMx8sXEv+Px4PQOc7ePnmDOZf/TBPrMwjXA1tVwGFouxXSu7YZRLWM/1pdEM2n12ymXVftmS4u4Ld8ifD/G9Z5WlJzoAAbQAvYSABdyAfwwGtIAISxGN6KpExomTyWF4h5AEeiJVY99G8dZQEKp73uOeawOAveetUN4eHswlrQlQ3sCW2ysJvL0Jb9yB33LyML6rl9XdXaQAYBzSg3vH38vyyPFa/fQLPNc8huyBARn4OfDWejxeX5jmtfVrJD+Ji+Qxw3AaXDYLEXe65CPI+YOz4H/g5HOtDq1gqtOhDc+922mydyPjNEK6WS2XN0RCY8w2f/QRNL+jLKZWaaVqfpA4NSff2ZXOD03loUMOdgvp4oAOdbxjMaQmvcv+LGUyphrargEJR9jsF8MlNPHDTAuS6idz8SgOaAa5yr0RRCBfDRCCQRP2/lm+4gVS0xodwcBLEacUgIPmVGTAoCWy0CM7yhUQ0E3CBY+MP5wHVeXKqR+PRT3FbD0jNz8HRYisuILYyL4lt8PmDnDcGCqqtDbtjp7n5RhDvyWO49rdRvHzMZnwUwOrfePKFiYSoY9kYCjexaiHgTaNDi11uTPp77/FUk7N4/sxbObLb9fT8rHinO+2dGeBvRffO+fjYxpx54MSi032XtZzp90zjY4ZzyfB4kiu1Uws4/ic2bb6S7M0Xcqi3nPegXhwXHAa8+wGjqqHgngooFGW/EIsWLHsBLH2KK26czVPeFOTlZrydkEaDemk0atSABvXTaNAgjYb1U0lNSySYmkhak8b0GXg/TX5zQyCO3k1Ln1MDEqHdBRzdL8h5+irIzmLtnAVk7rI9C2DdI9x1+2hav+VhXV4C4IJQMRnbdUJQcp+5AdbPIJ3YrI8q47mGPm/fzM0J0DQkaFrsQmxpOlHNQ4Pij8l/4AT6/QCFVfm6u628hX71IfVqLvrmD2ZcUURzNpL//od8UbSrsfYatmUjCzKBuGb0Sqpowznw+5kMeKsXG5cL0zcO5cetzzF35Ec8nl7Rfm4gheYdffiYS+aKfb3ExyJYOoIXJicz6/B7GNimssdjQv0DSE1sSiIV7GN2peGQeDpnLub7NwvIAKQKQ1AVUCjKfiF2ijG3f8n0cx5gzIZEQpJAKJRPbn4GW7dnsHnbVrZuj/3/lu2ZZGbmUpCVS8am7cxYEmZjYQQS40hputNTJwyk53VnMrAFpEbWsu39D3hg/sbyEyIXZlDwwmWc3e0unpkMuUZzjm6eSRe2g53Jgu+/Yj2Q6xQx9/aXOLPZaby3bHvVT5Rs8yQ3vDqQk8LZSCQKmhFbb6fp2D6bpG3fsuD+n7k3p6pfuCp1pPPoH3i072zq5c3ivJc2VyKYqxkCRFYuJDsEJNajXkVDan+MZ+JhX5F66Yn0bwBsX8+qTGCbyYYKIzodiCOtvU4CQEaUjDrVRbO7lsNH7/GJOZC403rRTa/qALE+HH4NA4zZJLz+PF/kQVWGYPtGQFEHviB1oAlKVdmvPkwh1jthAVvYfMeDvDYboADCq4kQK6Hx16alm8tOPyW01JZld8EOeITjHj2SS33TaLf1KUYdcxlH3P0y85ZOI33LUrIWjOObMTfTrXVH/AnNCD7RnoLX81k6/ws2fP8Y917eg/v7bQdnC+E/3mPpp9fy8pPXcPDYJD487DWGNE+uxMS0PXDyK9x5NaQVhxHxozuxJFZhPUDUHwfTR/DWlXmsAiBUHS3YS3HAUZz53uM8V2829gfL6szkTA1waxqaATRNKyfbqg0U89XIDbwjBzHiaGLVbH8eywyA5P4c1aGiV3EBySR36sVBAFK0x5dHqQuTTyhk3iwI61GO61mZ3CJbQGYz6bdZ/JhbmVObC5p3o7XfJmnrPN5dB3YVfq/3jcRW1d2H9e/kYjXeBKUG7XcfpkZpUDFlcwdCTXJIC1sUR6O4NNCcKIbXhzgOIqBrgmWD4IBoGIaOVwpwmT6K28XTooxXcEjBe9KPPPzrnQQvf5y75q1m+ojRdB0x/69tDCC1fgc6HHYhFz/zAsM7E0sZndoUjr6QE6IRWqzKZ22mw2VX/EKexwM9fuatZwfQrZpSIEZpTcJjr/DQD5dy0/JsQnGeWAwlOmhCvbhJbBt3FX2HPcPWs9Pq7len1QBOvAp4J5ePf4D+R9d2gwAcNqTnk+8AelI5WSxj0WurW2/l8vt8tE7YjI88nn0eZtAJvZOb7pV40wu9DSlwA45Ntka5S00rotXi7fVfl6CsTaxYALiS6LDL1PUFZH/8OGPOf5axdjsWphxEj+dGM+nUNMqvyWeCuyUDB0f44PMtrJpvQecq/OWqxhwXZXBEVn4gxQ8mCT6fYBjiD/glISVVklMSpEHjFKnfIElS0hIFv0dcPq/Q6AZJfnbj30+R/rHkPFhfcPlEQ5OEuIAE45MlMSlBkusnSVJKvCQmJwhuU/wut9Dwbmn89Np/N2XuM/JZe8Sf2FBS4uIkKeiTxPg4SamXLMmpyYLbEJfHK/R9UY4ZX3Pv0D5r0q2yYBhiBOpLgjsgwbg48fr9Euc3Jc7vlmCiVwIJCQJInI5w7FvS9+cd9v/lFvnhcCQ+LklS/D6JC8SJN5gocX6XxAc84o9zSyA+GLtfNjTh/Mly/PQy2vH6CfJab8SVkCYBrymp8V6J93rFF/SIL+gXQAIgwcvmyIc19d7UqtLkVTUrlLtN0lfOl3l/zpNFixbJ/BUbZX1maJf7RTM2yobFs+XPP9fKuq273r7K/HGNfNwA8SSkiCuxnsQFEyUYTJTEhKAY/gSh8bNy8oKaa86esDJWyOSfl0i4oLZbIhL7zm2SFXd2ltNA+N/mSn4Lp4p8c5x00/oLqY/LqfNE8iqz2593yQgQrsiRRXvS3Kl3yPSjEY8vID63Kb5goiSkNpCUpDhpnBKUhMQkSUhNEU8wIL74oNDjVWl459x/PIUVmicjW9SXwYluCcYFxJ+UJA3qJUr9tDhJTA1IYkq8GD6PBOJM4dBvpdnj2/7djrUPy60gHDRe1laYyWqCyIShkjroC7l5k4jI4/KrC6HTGLlpe0X7FYvIOll9e2cZDsKNVXt2qOEeCg084G3YCo+5lHDYJlxchBMNEYo4aDqIboJmgqkRFRtv64Y09e7Q2WkX4EvpQGLSUnIziykOFeMyw4TCFroOtunBIZaPP6QJtG2AL1hGvJrop9mQBPTXi8kuLMKFgymQW2wijg4uA0sTugw8mJ69YrtUoiNj/+Xx4WoCbkOIOjqmAR7dxDBidQoszcCywXS7gChdWqTQrcUO+8f7qd+tAcV/hNA0jXA0gttwMA2wHcHBwIla6B4PGlHqBcIklzFIv7Uwl2gYouFicGy0sODFoSBsIGJjarHO/0M6NqRSGYD3ebXzjfXEp9I0Po2dp1vsipnSiMYpjfboDnOv9LySU+4YxX23ZbLYk4ZXA10ERCfOBfkZb/DpZU0ZP/Ekjqu4UlqtMVLaMOCI2m5FKSdW9sRbGOsGd3TCUIlaG/PZ8NJ4NsmZ0KUnNx4ElUldYUc3x7r7NXPPJtFmrCU7D3AswpaFRHKJFOZjm4DuwRWOgGkSNQFs8Fg4mfn/uCYYnsYMPLET01+aQCQUwaKQLWhomoGI9VeNl0Id3MEonrLG8NYvjk1GDqQRV9HkiSW/M/mw72j41niGNgSWL2ReFMgpQq9w9rIBuEhta8WW8BZEyMZdyZUklVCFwcnuCxfLotsPkFvbIMGAVwjUFzpdKyk3zZLNUZFd3p8U5sn6Jw+Vxw5E6vsQfKnCARdK8JrJsqGgWMKVaYO1Xtb/dpbc3QIZAELL+yTx2kny83pLCvf+CPdDEZGCb+X5volyflskOTlNgvEBofu9cvaX9q53FxErf5a8O7yRXNwCSU3wS1ycR+h5oxz1wnYplsqkoLVFcifL9GcPluEm0opmQtdnpPcrqyRzz/LXVgnHrtzxK7XEWiLZVybIYANJTApKMDFR4oNBiYuLl+SgX4y41sK1q2RybbdzX/Ld2XK9D+GK9bs+n4uIyLUyOhmBwZL2pZScg51d30XPvEYeA+HyLNndjqR/PXc4W+TDwbL1CoR4txBsIPX9qZIY6CRDnh0vFXdYF0ve5rdlwSVuOdVEvOYAwTNc+N/Pcu8kka3WLnoEJp4ll4NwzmLJLnMDW0SKZOL/TpfT6SDfFotkSFjkZXcsdX7bOfJ5ZQ56+hVyNwgXbZPNldm+kmp3UqbbS6chXehZH+L1ELjjoGErGrfrTgOTXa8m9gdp0qcZ/VuDVwP8TaFtT5odNIDGAS8VTSr+i+GlSe+hZBb4WEAbDjrpGKY+N5AjmhiVioyVnbkgcBRHH+DFI0A0BGJAo960Gly5r5sRdxDnDGlKsgaaVYyue6D1obQ4KxUvlZn1rEM89O7REodU1iUP4sy7buD9S1qRXItr6jR935gDvd8yOpD4yAuM6ACuwnxwnFhFUF1D0yIkaukw9iku/a5k+/1qcu8eireJdwPbC8nZxaZCMfz0J9OzgEZdOHEg+C0HCnOZui6/wmXD2TkhcgGM4G5PDPxXH547EU46l3rdoaMVweNomHqUQm9TtjcZtospjEIwsQmrFgX40jqIkLcVw8aOwXnjCB4YCPWMivoMbYo358R6KLTkclZMCBAhcMljXLV5CYd5s0lhLvfeHWGG93AY0IQulTlob8mKjIgTe9+qSO2f4RocTINEiDiA7YAeJWvL1thjlfmFTW2HGQdhDbByIBwle0tl8uaWTl/fBPNn8lvgZLxXjmXcfb3oVLKFGt7YUwaND0ilWTLYuiv2CxLJw8mq7P4urPppxKfG6i2ES+aHx+VVZt/Sqdpr4dvP+KH+FRzw7juMPQVa7+ZRVI1sIJOpn61h1KNTKaIm60Qouy1hIL2ePoY+EYiPxKp7ijhE8WJpAZKzvmXJVU/ytAVou87juN/zNiDeBNbMZHN2RRsWYTOVT+6ZzGo6w1m3cl4iYP4Jo4dyxmTKyX8ZAfIpWjkploSsoUmTvWpwyXXBdQocexbDQol0j9oYdi7RyGJmf/YDUzdWtP/H8OKpnD+nJ5EmZ3DLDy/x9UmNK3kt2UbB+oxYnQ3NLmeFhwEk0KNvCw5pAF7mw/RX+DFvIFvMvpx6WxoNKvNSjjt2pjS1Ki35XvsBheYiUgARC3B7IVKIUzpGWZlPITePzesgHCVWaKg4h7AVxgakUncQ21kx4hUWBXpw3X096VA3awDvcyKGg0RiX39Dd4NZxJZKBxSwYdkaMjJBdxx00wOSxYoVldkzNn+GVZv5fRzYR5/I3cfs2TFUDQdYxvtPjGPMyInkUjdSIyvlqQ9Hj+DTq1JoEcqOpUFGpyQhMm7fOhLWvMrN56/kq31kkVxtEYD4JOIECBUwocJIOgs7upiZMxLYRhuOOqUerQDGf8XHLy/gpI7Bci6wGpDD6nHbyaULKa1iC2n3nh/q3cPQ3rm0i2zDAUwpgMWTmTy1gnvd737nmpuzyPX14vRv7+CJfuWvt/in2GqX7UWbY+cHy6lE2nGApWx+4nUWOW2gU39uaF/JvBVaKFaLx3ZXaaLy2g8orCimgMsFhHXILQZbi72puwwIwmRNns/ypeBxEVvSnL4G2ZDBYnasCV8WGyiC31/mvS8SaHjZZZxbrwqOZ78X+9AMzYcRAs0uotgOglbAtgrvUHbcfzlzf8xgxloDOxSlWHxQmM/8BZXpnMsEmc6Gd6dy89rLuO36gxm2F0ez50q/vPlAJglxLprWC1IAWKqvvA7zAF1xvTCOj0+J1Sex8KGJIGJTbASxg7mYY2/kkkuXl+SnsGu3yXWUBtC4D/3bAhm/8WO5pUAF8OOJgIGH9slZ3N57NtPy59DjrfaMOmYKT3cvb99tEJ1BQXpjVtORfgP2diTqryokQAcOf/h8DoyDXDdYkgbpy9j81WZWAtg7DsJMgo0Pc8UVM3gh9RUenvgQH3TendfVgUZ07DGYFjrgK6jc5NLQbL6ZAgWufNrdMpRugJvorntBTSd2jXXpVZo4q/YDCr9JchB8DuDzQLiQ/MLC2LhOhQGBBZHJfPP+BCbmxXLwuw0vZqSISG5WJcaFohCew3e3zuWtxHN54VwvTewqTe67n4p9aPGNEvGYoFkh8MSi9O2VGqwromDiQ3w7I5tN3kQMAd3QgSj5+ZWJSDYQ/vMTrn/Mw+bTL+Xm3fqlrg4RwETXi7GsaMm9rhpMq/v60fDF+7i5URSKC0sKXYFgo+kREl2/k/n2QwycBMWlp2QVJ/6bL5UDDwG2ZjBtQUUbxkPgRHqf0JqmbOHu4T247sQz2H7A8Xz8fNdykmIBFMDmFcxYHeTPHhdzcVOo0j7AAUMY0hcCIcAdJegsJHf2R4yPAMYOs/Q2TmZkk3sYk3ktF3x9CXcdtGdD5lqTeNI0INvaZUDhEILvlzN1O1C/F9ccDh7LhlAhCzcWVJyqfnN2bE6LblRpEFD7AUV8czq0B8sEiqMYOSGsdVsrUdd+Nrx0Je8uDjM1uSXFBhhWARaJRMRbiax6v8Frp3Htgv4w6klOTOKfXxBl77Q9iLaNQDc1sC0oKGDNipxd71c0jrUj32OSy8M2nxABPI4NjkZRuBJdzNnT2PzIM3za+gyufKwbqVBBkpea4AAmpt+HE46q4Y59hg/q3c8d717O7Xo+IR2ipgsRA+wojr8AjJ/YdOt4nswp2UXFiWVIgnOO5ngC8P4qFvJ3Ita/acRyLDbl+M+m8EL6TD54YTPT3vmddQ/5qV/Gs/49By4LFi/jXVdbml97BEMArSova+5BHHBBPAdGvcSFTDRrE9b213n+NYhVSl8HBWO5odOrjOZYBj55Fk/13ovXEz9uHVg1mc0VVqYrQPidj15byRbawgmn0DMZMGfCS8dz0qRQBUMmBWxZ8z1hkqB1oJz3d8/UfkDhi8OMC2AK4DHxOlGswhCFVBTwO7BxEd8+uYJlKQGCHVqWFPcxcNshJGrvYlzIgbUzmf3YFlYOuJgHzlHngirn9+D3A5agGwYYNsWhXXVRCHz4E+9MBGnowZ0cF/tgDDemx6ncJLgvf+Odn4Bhh3Dm7iZBqFKl36hYQWnDcRDMf3SoKvuAw8/j3msgLa8ANAdN10DXEU3wu/Ng4ZPcd89WFtV2O+us+tDlJm7v+hVdJ73O46tj/1ru74CmowWCNGvRgGaNKpMpJoei0W+zuvXRHH8ClVvZt1uSYfhTnFA/RArFGHoUM7Se9Al/sAHAmcmY1mfzSV4bmr38Np9f7t67/DYN2pBiAAXF/FzhWEQW0dAspn3jIod4jj6pRSzr7Aff8/bzKzijfWoFN1LprPrcIIseNGpWidWUu6H2A4qoBuFCCjWgKELI1ggGPbs4yHSWvPULT208l/ueeYAHjt5OVMCxdaQojCsri3zALjMiKQaWs+X9Pxix4SSGXNef46r+qP5NQmDVxVoAVa3kTQ+ZGFGIlUYw0Wxw+yqaLpUJoQnc8GqQN+vfzYtPX861jdIxdQjjRjKzcFtWBd142yD0PWPGZDG64ct89UAqqVV7YLup9Mung0SxdQPNjpSEF8q+oxfc+xqPpkG7SBgdG0cD23GBaNRjBrw9lCGfwtbabuoeKe0vCIG1juU/vsaDN57KhU98zuw9mBry71OuHziSPo9exXlFj/Led7Bwb5sM/DXXYfkXjP8JOOcsrqiWCfUmxJ/NicdrdDM3gANFjgmrLuXVrz7n5oMfZ/S2nnif/oA3Lk3aqwRRAlC/Ff07A5t+ZvzairZMwSsGOrk0Tfbw0IDVfJM5A+PZtky7ZhoPlzvnZDOEZlC8ujnrqEevw6r2fFT7AYXHDYZOggN4TFx6hFB+RZUFt5Ox4lNuv08j6fwTObdfWxoGXMQJ6LqJRwtj524nImCXGQZnUJg+jYcfCrH4rDt55oia6BIXyFtG4YRRXHnuXZxw7iN8NGfTf/TCUvKmuwEjNrcl1n0kaPkZFfQ6bWbN6zfx4bZeDLv+Oo4c0BifD0SLza/XLZtofnY5PU8CbCHzhdt5dulQeo24lMG+2i5UU5IWDwFx4UZD8GOieij2LQbEX8TZH5/EsYXFuMPF6CJoaGiio5kODcJ/suGed7hp2b4YLMbyGpC/iglXdmfo0Zcw+uWvePPuMfQ44EqO+mIryyrcfyv5Ex/hvtMe5MxhI/l8q5R97h4ylJ6DgGff4I/iKmp60SKy7v2OL9zDGH0BNK6W6l4a4KfRZWfT3QVxuqDpBmTOY/TZJ/HN/CD1b3udr2+sR/MqeCW0xjQc5IXibNasq2hLH3hP4JD+LUhK8jHiotbccuJxcOjpjLmxRTkTLQXIhcwtfLs8ns0HnM0lDaBKv7VVmCRrDy0T+aSnHBtEEl0dJMV7usTFXycvO1J2psvikbJ6GEKPt+TWNSIik6V4dHfpFEQSvR3E6zlOfCnXy2hLysl0+aoUXIrQdaw8kl4TVQ5yRCRTPjqqg1zcCEkJJojHFxAOe1d6v1XzNRZqzMZRUnC3IYlBxEhoL55Ot0vqkR/IKikn0+XKC+WlVISTpshUEZH8N2ThFUhiPKIF24qr5dWSetzXskhEImXtn/uo/NIQ4ZTlUlaJj9qzWMT5WUac8qz0S31Iljoi+bXdJGU3OSKyVeTjJDmTOGnqqy9JwXgJxgUlPj5BAv5kSeVA8Rz8vLyaIyISreX2VoZV8rNJJDpNPr34QoHz5YaXp8ia3D/ku4saybEgtHtITplWuk8Z56vcz2RyP6SLkSi4DpOmb+eXc94tEnv9aLnSN1TOPvsbyRcRe6/Ovl+LfNVG6qfdJH2+qM7zeGl224my7RgkkBAnBJpJA49fiD9Qkp/YJvPsv7fae2tE5gyXEzhDWh46T1ZJLGN0ucdnRcQpLJSNG7dL+saKinjY4ogtIr+KTDhX8F8qvV6tskb/pfZ7KHBDQj0CNng8LlxEkFCYTbZd9t3sB1N56yeod8xwjmsBYOINJJJsg2nYeDULCYXZ4thlR2k/TuOt98F36hkc37S67xaF2K16HmvSV1JsGOhuLx6vD/K3sGhrVYXqdZDLwPAkYdjgNjRMKUa3CimirG6xLH6/41fec47gxuv60xnA1vD74jEcMLEwtDBiRwjbZa2zLmbDAx/zdl5zbr6mLQdX+8HtjihoxXhNDUdzoWuVXCeu1BFSch5Kg1P+4NbjiulWXIguTsm6dBvDEEz3Elx/vsglT0T4dZ/KT7GOFZcN5OTXCjn527e49dLOJAWhg27H7lvTt/LJOwsod33VjHHMnwOabYK3CU2blD2sKXjRm1zBi7+3JPHLpzj8480U7M3Zd9ksvrllJdmXPcKrx1fnebz0mf2kDfXRWotANIrmFBOIhklqmEa8XpVd/cnQ9Wpu7/oFLSa+x3MrY4nwyj0+w4Xm99OoUSpNG5U/yFs6hRU2kHf/u9DmGM46qcoa/Zc68M33gAZ5GkTDETTDxHJ5ME1jhzfRATKgaBnvv7CWNzu9wou3p3BQyf6SloBPB0/EJqKbOC43PpeB49igGyX7bwW28tNzC3mq2Qu8fqVGu2o/ttIjiKdtqkXYho+ydKJ2FNwN6HhgGYMtS8aS/8trHDhqHZHiMJoWRceDaBEQE91wsKMGGFEcW0OwcSwN3bQRx0A3BMcyMEwbx9bQTEEsE8200BwThwi6+BAddIRQqDkJ8XFc/N2XXNDWW3VFmcxktEgGlg4hW8OnubFcXmx2/uVYAbNe5rwlZ7P5rPP4fGBJMSDxkRR0sAFbc+PSfThuD5q24y+vAEsh/VNO+m4gqy64gjWHUMESs5pUWjZIB0xscWE7WSWLSJV9x46LfNvQ9YM3uL7r+fyyOQHNFQ+RfBCHYp+fqJENrz3AHV1HMPXUuvw5l96qGTDre755w6L1HY9z21AIYBHUQqydsZVMEtFkLbK5gMkOHKfvfFnLJm/6b6zSIOLpAr7OHN6t7IvrX+9il3t4/MOraH/xW9ynn81DJzfDT2UvyAJsgPxfuPsumw8b/sjM690cuGdvQiWVDgckwfHnMuTxz8jKcwi7BdtVyKoff+OPcwbSospeLx60o+n9+KWccPSTXDf+CS67kb+yN++pv1a+LPmJz2cBdx3PsVVWEexvtd5DIbjA8BEn4HEbuPUISIhIcXiHOzkB1lHw5IU8tnAwTR64hKN9EEcxoBFxxRHngGkYuPQQml1IbpGDoZc+gwNsI/fTe7jr18NodP9VHJ9Yk7/wXtoePojUZIizs8BMI7VHJy4fVNa2NlZBAY5toxsafl+QuDgffn8Qb8CL3x8kPjFAfDCRhKQEkpNSSauXQlpqA1LTUklLrU9aWjLJyfVITEkiJakeiUnxJAaTCSYESU5MI5gYIODz4/Z6SUsK4PUIRZk5Fa9b3l1+P8WaD80Gl+5gOBauvMwdIuUSBdNZ/ujTrDSP5s5r25FKyediCJrhQ+xYD4XpFGFmbKT4X8N9f7L9gnuYaR7P3fe0I16rK3MUSlshgINYDo7twsW+OM6ulHL8wzj0lZ4MC+VS4BShaaDpADZud4hg4Rv88eBobih3/Luu0ICF/Hb9t3xGH556pDlNAQ9hWD2Nj1bDdK0tonlpeWRfOpZxpXDsP5n0fQYraEqu5ofGbRmaWHEPnEOQwLCRrP7qWLwTZ5ET2d2Zn8WE5kxna6cH+PyLIzkopbqTf5Rk3iUIuY0I5xXgEgvHAEPXYOoXfDS3Gl72qOEcOQh4+WW+L6Oq8p7QwkuxH/meUc4pvHAxNK2OzPFVP4qyu7JEZpwvlwSQ9q5W0sg3VHTfOXL0mp1GpdZdKr82RxgyRz5zSsfhIyIyX6wfT5Vj/EgbXyNJjussnvhBcuDMiFhSOvbkiIRGyvTmCMNmy7jaKvpoR2XbxkzZuqWolhpQg6zfRJ7wS1oCEgi0lKQGF0lCvVvlS1uk+K+NbJGPhsgt/mbiu3+T5MoOY4W530nRA17xJyIuf1NJTjxRkhKulFfDO85BcES+OkVu15tK/EP5klGjB1hZs0XkZ7nrxJHSK+V2WSvlze2p43Y1SL23g9j71HSisMjtAblZQwIJCeKLT5D4+HhJCMZLUnxQCDQQjp0lo2u7mWVyJDbiv0Jk2gnShWOk04WLJFdK56xNFrmviRwch+BvLnT4Sh5b9+9nsSRDZOOj8kQjpKfeXDxxZ4t5fbpk1eShVCtb/jEzYtut8owfaYBLaJgowTjEG2wn7tSzJPnsBbJVqnIehYhIkciml+RG9zAZeEN6yWdTuXqtZZsk8mlL6eI/Xzp8UjUtLEut91A4AImNSAYCLh2DHDTZTvrGjB22KiLnyV94Iedghl19MEP+6vbWAQc9tR7JOvgMMLQIulPAhvUZOyTELWLjdS/y2roAp1zdjaG1ctQCuklao2Tq1d8P6pgaXiJJTWJzYwwNwy7A5RRSFIUQ4GBD8XTeuW0hH9c/lt9ub0g8O/QuuHS0pCaxnisN3FKAK5JHfrQ0raxAaAZjLv2D95uewrjr4/Zu/Xe1cIh9R6M0blKfwoIAtl3DPRRVdQO3q26fve0WqhvdSpXkhhGvcNtQSLIKcEqWMErJnIokMw8mvsWVd2bVwUJwpZlQDJxoW3IGncOY1zvhB9yEIGsW077dQHoICDSCg1tzZLN/P4tBBiyfzZ8ZGuu9CYTjEuk0pCkJNXswNWPDWzzY6AnesVK48srh3Hf9obFeKc0iwV5J1h9f8WNR1Rb9E7zQ8FKenu6j7aj/cfB723D2JmPE2ql88cBm5t36Fh+dXHXt3FmtD/M5CHrz5mi6TnJkG9s1sI0Q2dtKL7qbYMGHnPD94Sy58GbmD2WHsuIGDg3R27SlhQHLQyGiup+oHiGhyChJcrIYFnzA/z5uzeQzxzJ/IOUUmalu+9QZswrYkNSYFsZy1kQ1woZFxCpkmyuWa16PvgmfvMH5cj/9X7iIHjv/rviS8TZpxgHaSpbbBpbpI+p2o3tcBAiB8wGMf4orfLfT+Y4rGBL396yFqrXjFXkjky48hde+ncG4ggBmJEoYC9NxYbsjaLYLDAs96iJqRtAsk3jTIaL58Bt+8sPZtAs8gNvlJ+pE0MSNUIxm6UQlDJYGhoAdC5QBGPQKccOOIP+WVnvW/JI3RDPdYEfRdDDdXkSz0CwDR7fQbQPNA1gamiGIpSGmE5tPagrYJpgOYhFrn6WhuWLbaaaAZfz1eGx7AwwHJypoJmDraC75x/NjglgSW1rs6LHndTREc9DFwJIoYoNhgOPo2NEIiYlBsrMrVXK2+umnkfrSdu4ceD2v5eex3PGBGLHkZaLhjU4i9OrFBHp8RqQaJr/tHQ1oiT7wCdZO3PHf3ZCeznfLIChpZIZTSTqhOW3Kego7B+b8ymLR2BJxoF4Xjj2wDoyh7zXZ4U8DVt/GT4c8wX1tX6TNLedzz/8WwgfnMyEMc418HDsDc+uHjP7pDoYcX3VJorTSwO/g13n+x8tpeOTTPOy9mltOaYpJZeeJlcw5KZrEEw9EeTXwFSuvidK6GmeZ1frnrxEFjx+/BqZhYuhRvETIj5TmPJvC7MefYpL3ZK69uR31/9ViC4JJNARMw42pa7g0i9xI6Ue7jHU3PcxPwf9xySM9aVu7eZj3IxqOP0hcFDyGoNtRdF3Ii0AROiyazISRM6D7YYwor3pXXAKJUXDpGmAhGhSGwMIFi6Yw5YHF0Kg7z11c+orVKYoV2sSMZRvYng3R4iIi0QgewwS3htt0gwvcpgfNp2MaBuKBqGbg9+oUR0O4XKBrLooLi8FxiEYLMDUdzaURCARwx3nwx8XjCvjQAgHwuPEFdeIL9n41kMttgQ4ujwevy8DQNMRwcBsmukdHF8AQdF3DcOsYmgYuHdN0YXp0TENHd2u4DAPDa6BrGppLw1XyuMs0MT0GLtONy2PiMk0Mj4nH5cLlNTE0Hd2lYZompscseT499rjHxGUa6C4dt2miu3S8bjdur5s4fxC/308gEMBwmVjRulJvx4Rm13HFs//jgoiD3wpjayWXAYGE0GbcuasIFsXKw+0b8sn4dQLz8sCy46FBD87t4ye+rE2tFWz7LYt1YoA/AKntOLTKZnTXtpL0c9s/5ZdBT3DzpjY0v/ZKxv0vALSDPudwago00cO4tDwC9jp+f3Mys6qlLR78h71KztqryfxmIvlR2c3zXAHM+50FwXv58vvBtE6u3inrtd5DYeAGxyY7GrsriWhRwi4bf24mxSTgm/EDX32dT9xtPbiw0b/31zDAhqyoTsQJEdVCiMdDKHMD20kgbdFvfDQd3LcewV0tavzw9mM+vBIm14CQHcbxhrClCHdxHstc2wm/vYFXt5zJJR+1ol+Z+5tg22TrUGxFEK0QzcjG3pTBvHZ+en2fxYurDuOSj3rRv9qPRQPcmN5e3Dp1A7fu1r7LgEyev3ANr345m/GZz+AByvgqV6tIkZoKWi1OuJ3hl7zJ6GeForgGmM4KdBG2Jj1M/O13svEc8NZ2G3dJiJCP2/mRBZ/OZS0mm8xG6Af14fjygoQty5m8GNx6FKJu6HUQ5SZn3KdEADeEX2J1v2sYalyNvDOK8Lmld99J0PIyBp/wHD+8mcFmDYr0OPjzc0bMPoQhVf4meAAPWpMAz7157m7tGUu/1gH6vsi7fau6XWWr5R6K2Ax4SKSh3wJDB3EwohaFhhsfUX65YQ7jm5/Du1el0LCM/QUd9DiSvA64DTRNR7MF8qL4gIk3fM+b9c7jw6tTq7QIirIrEUipT5oDXpeBbYXQCeHKWUF+4Wqe/zqJeQccxaNtyuu+syEYIM2BgNsAJ4zuFBLZtpRNW//kyqcL+Lb7xTx2QHXk79/R3vZ7FIFTjBUpIlDybLUz5KZUjxRaPjWSK+rbJBdsR7O8FDippDx2J+Nu3TeCiVgVpGxY+iVvz4DlWkucuGa0OvUo+pa5ZCMMi6ewaCMQqQeeVrTqnURSzTa8mriATWwYfg0jVplErx/FT+fufKFMo8M1h9PZDRFdwzZ0KJzPlDETyKydRpdJ2+G/NVUJt5Z7KDQgGfRW9OmTxKzJWVguHUc0zg8/wA8/DOL4dafQ4/abOaHMfjcNnSBoqRzUI5G03zNZ7UoiIjp919/N/GkXcNiC8+l5302cmFizR7bH5oyhcNoXHPjiaiKhMIYeRdf8iBZC173omoVjG4gWQcTAcaI4lo5uWIALwxBsy0A3LBzRAQuxXaBH0HAjRDE0LxHLRteEcKgpCQEvZ4//mksO8FE19bQEiIdOnWmJzlY0crQQOdEwfVc9z1cjNvNE/B088txhFUykTIJ27WiKySYHVmhR8q1cWs76hNkf/cArTZ/j0deP2qvc+TUjAJKOBFxIKFZJRiW2+i8onfJtgd6dCwa7+Oi9LKb6rsd/+Y38cQns4ayXGhYbqzcogl++YokJYUugzRGc3G3H+Wo72kho5iQ2FYGHehBtS98yl8DvPovY70fNzzgrnYH1O1uuPYneC/7HpotvYunl0L6szRsN57LeH/HoDBOiXupFLfJ++ImXOIy7nQjodaxydQ29obU+5BH7GF00bJiAR8vCsKLomod5z7/OF7mLCHd8iGuuKX+qS6xbJ46ktAABLQeXbaNpGrkTfuCan1dB6ze45/K6keqoUqwQ21YsIFQEjuPg9nhwuyBquxCxQTMwjJL8HWgYLhfiBV3TcUQwNB1xOzjiwnYc3KYf27bRdC+2Y6PjxrJtPLobW2xS4r2YbhOiEZxyTh+7TwAXBBqR5PYQiFpoWhE6bt597Q++ntMQ44L+XFRhthYXBBuT4vEQF4qiGxF0gZ/H/8xvWzagndGfyztUUXOrm+PDkCyithuvwL/yAyn7MI0tn37Po19EmeVuR73Lbua1RxvvI8FEKQfC6wgty2OjAG43pLakX1o529rr+H2qw0pSKSIVOnRlSBLs7rToqeNfoGDeVHIK4M21BzFoyNFcd0E3vLWWS2Yz2685nYff2samQx/ilfsb0768Lqb45jQ/tQlNp2xgo2ERtLPQM5bw/hy4qpv7P9Jbs/tqPaDQAAQ2bY8V84rYYWw7jbVb21FsNeKQO3ozpML9NXBchMMu0MGO2lgYbMjpTURryqEP9OTwGjqWimWBhFj752YyvS3p2im57DvVXtfTstf1bH6upttXVUpPKiY4EbZFXVhONm4jEzvq5rXpw4jE9+OT6yoq81vSP2e6yLJcWJKDKdlELD+frTmCcNxlfHJTYB9ZomaDYWNZIMSqpUbZF7rClbKV9h1HAR2mX8qEK77keec6OO50fh7ROJY6fp+iQ0RHSzbwYYPtQNNO9CxzbC4PNiwkdx0spj6Zmk6DYzqXVGzejTBAYNG421gysYipjsnMaAv8/evhr7Vg+z0YfQVH/XgIc4//kikjGtO/wolOLWH4ME6/5jMmWRms0zaQ4clky9Mrmfd+Gw6toVbXNbW+ygME0TRSU8J4dXAbUcQsJD+ciNamL6OONHdx4dBA1wh4inDrYOghMCIURhNwmvXluSNMAjV0JBXaMJ7PDmvMiT2GcGjvo2j4zDYm1JUJ69VAEDA9JOhRvDpABN2lE7Hb0mXoqQwNVKLr39RwRyO4AIMQmhklbLem9VGncUxgX1mIGwU9iqnZiGFiqloe/xEmkbyvGXv8l4zengxdT+Pp9/vSeZ/8cAXc2/BEbcIWYPigRT08ZV4d8mDpJ/y2Aja74iHYgraDmu3+vCDN5tInX2fkmYmk5gPFCRx8fJO9PZA9VER0xF08eEchc7s9wGV3daf/LkuHJkKDUzmxc5gGdghTi+KVQpi/kLfX1ECT66g6EFDoaDTG164NaSZ4HMCysFNP4qq3rqLLLvc3QdyYjRoRb4Kp2WA52KmnccPYa0vqfdQWAfKABdw34Ha++xMy4qIUOWvY/stXnDdqc622rvoIGolAAs0a+4jTdHQJYEXd0PU8xjxevxIl4wNAHL6gF4+tYzoe7Ggc9LyA15+uX2WDM9XPC46ObWoYdpTqyHar1KSS/ABFo1hy4smM2N6TKR0f4Z63+nFjHRs2rzwBvSV4IWR6wTLQEmFrWRP5tk5k0Zjf+MEDmOugQWv6tN+T4D4EjQ4Bn05KxILWnemwt/W/d4sNFEH+13xxy0Ec8ECIJ6Ufwy7sxXkdK7O/A7Sn39X9STSiFHncFEkcrPyYqW9vpfiv19i/1IGAAsDAnSQYGkQtwHUg2kVDuGLX0USM5scdKCKggxU1wdUGzjmKyw+ozjZXlgDFFBXmUuwYRNERww3FmWjaPjS3o9JKM/HpQAr1Uz14sSi23RA8gLOub02fSj2PCSSRFhC8OIQlDrydOPqC9lTR/K8aEqtKqVmCo8XV0oQzpeoIyAJmnXwjz/8Kixtdw2EvX8aDbWHfrdKig6sdND2QgwmBk4t8+AVTdu5BDS9h9iN38/AXkOkywVUPGnei9x51LBhAhNkzctgQTYNGrau5yNcOrDwi21ay8suRPHvcsTzy6io2k0aBmYZn4+9YlUp56QFLhxZC8w4guo5Lh2R7JStGP8HNywpZtx/2Rdb6HIoYPwmGmxYuyNKPg4bDeeva+mVnaPsXDWhAcnJ92hjLyTUOhfon8PRlDauwAtyeKl0k2JW+fQzmLQzx6dZ4xAG8LTn+iPLLze773EAcDVN0fFqIbc2vh46DeemIyuyrEeuhSKBzc5uZ2Tobks+BNgN59ZjqyohZ1Upb6QAmpkdHpLiMaqvKviEEuIhE3mPB6Rdw/vfJLNYPofUD5/LZIaXb1JH7sz0SD2e/wVPf9OLlz1bw4uT7uf2kJaQ82I+g12TFJxOY+OkYZm/dyLYWBv5tDuhR6D54D/PAbIOCmSxf65BBO9zDOlTj+dqB3DnwaV/0SzXEsYmdhP9eWCmsRstey2f/m8YXV6dx4dRFjOgC9XZ+qvw/Ye0z9O03jm1FUTbpLsDE0Ww02U6WtQ22L2B0h1GMNj1gtyHYqg09336DX/r/9xeM14mAQoBoUgq6DcXulvS++xLO2Y1psoKJ2bIVfmcyIXdzut5yFZeWkX++dsSSIp045lms228k8XOLLUZjhp3UhXMq2wOzT3IByXiS/bFcMU27c+szR5Sdda9MBtCAlgc0QJ+5HJp24brXTqLpPhP07xA2aA5ENCwtoHoo9lluYBPTT7mA97+CxfpRtHtwNLMvgrh9JMStmAc83ek85jXuDFzPhHdXsfjbJzl5Qg6EBB/QxAVJbvCbrciMboNAQ5r2jKPBbr+WDWRQmD6L8StasNTbnT79wPdX7ZuqpkPmIiKTLFy6l4gdxe+LQzcNvC43umHgRMNEMXCF3dhOiNfensulz3T9d0Dh88KWrYjbgw+ToBGHY2oYkTCC4NgWuHSKwg5h28IRD4WrsmhuOFjUkQtudaq+umO7KTRP3jnNkJOfWSo5e7J/dLGMO0uXM0Yu3rP9lSrmiEhICudMkBv7HCRP/7axpGJeZdkiEpbokj/k+h4d5L6f1pdUmN3XpIvId/LyZe9LR9eNslT2rmagUlvGSdZTDeU4EMzTpNkoW7Jru0nVJZwnhblbZM6fs2XCb0tl8doNstIOS27RNFk5JEHOAWlGdyH+Drm+0uVFZ4qs+0I++XiGfLZaROQdkUmDpRvdhfjRckO+SFXX61RqXt0JmDwHcfabhZzs91Riwl4ZzI6c8FIxw+Lde7a/Ug08+A8+lKd/n7cH+5aku+7Qg5Ezl1Rxu2pKSSZYx8EuthCC6NRY0jqlSghQAJ+/wMM3b2Y8J8Nt45hwNSQSpurKQdW2HXoH3EH87iAHd90xt3AY7GKWbMllEg3ZRifodhrnltuTLCU/OtkzP+fNB+/hg6U+5rubk+JNJO4qjW8e+I35DIZjj+XYONj3e3mUOjXop+9pMFHCHe/+K72xUtuqqp71vvpploYNPsBPNBDFGx/EraKJfYQFWGSxEJY8wK0XTeZ1OsKlrzP/4dIsmPt+MBEuXgfT7uTMRn787sZoZ43luzKrmWXCNyN5Zh2s97kI+4/ivPu70q2c5y2iAJjN5+cPplWvF3j9mM/5dMVM8ha9TfoonfE3vMaU9EQsUmh2ZBMOA/bd33WlVJ0KKBTlv8cLejOOPOcgDjikNSma+qXbN8Qm1CZnfM3Hg5/m/eyW5PYbxecjEuhMuLYbV2U8RZOYfvejrN0cxonmwZIcXp5exoZFE5n82Nd8XQB4+8Dww7mkzOVWAlj4+YmNF/TikneySbzxPX67oi3NAA9uzH5ncXwXcLAgpSHdBlbnESo1SZ3bFKValC6fjQda0bFfT977/ATiqO5iZsrecQCbPDsTQr/w5el38swm2NRpJE9/fAQnpELd7JnYw66vRYuZuAyKgLARhOS29G2x80aFhMZczai5UBQdDPGH8tjoRuVUCdaAQnj6El55GzLrXcVJdzTcISuuDnTikAEeGpMDLYZyess9a7pS96iAQlEU5S8CRIk35jL18mN45FeYVf9czhx9PDfWdM353WIjxZnMnLGWLVmV3yt3ywYKCiFLAxoPgrZNOOofx1nImg/P4OSbsvmYgyG+PyePvYLbUsq7eNiwfSyvvpDFhzSCwQMZ9I/V8Q4421m42WIbCRAf/x8pe66ACigURVGI1eawsckFawFTzjuB29+GPxJfod0T7zC2zmZTK8nGaM9Ee7cXva78kKvmVn7vhDYNGdQYcjpdCG0GcYQ3nXp/1SrYwDdXHsz5Z37NtwyBLv/j3UX380nZXRMlFsK79/LMhnYs9wyh5altOPIfj0ehYAHZq0y20ByO7UZtJdxWql7dWeWhKIpSa2JzJgzWs+z6PtzzrsMUjqDjg5fw3Vm13baKxNIysf575j6+Ghp0ol+v2CPOLirbCqC1OYIDDnue1gs1FvoTGdb0N1xTpnL11zP4/o0fMbZDvu8Aut/0KHff0JUTknfRnMh8QhMz2GJ1hvrtGHLwziXQc2Ddd3ww2UO63oV2Xcsrka7si1RAoShKtau7qZ9K6y0UAPmEXziNB190mKjfQO9PnuH3E+tqu0vTfIeALBY88QqXrU6GUw7mlLjYIxUFE1ByXPFDaPRCiLnpv/Dpg7fx/APzeKPQZlmnIfQ+9iFOOOV0ThncluaVrRJQAHMzwUCDpGZ0+Vd9jmyY+gcbaAWBVpzUPfYJ6NTV91nZHSqgUBSlAqWT/UpO9yKg7f6pv+Q+uo5eNBwgh9yJz3DbNcsZS2fcI59hbJ0NJuDvz2UzKx87nOteijDH25/TD6//7+yOu6RBs76c/NpMTn4NokRw4f3XK1WmRZqzhWgBWGYidOpURn2Ojaz6aSkzGQgnD2V4vIVgsm5bMXpEp1mTujjhVaksNYdCUZQyOCU/EcCC7W/z440H0fHEh3nlj2yKY/9aQkq2ywNnC9lLP+PuG+/jwiseZdys1ZSmNahbF2eH0iWOYMPcJ/lq2Cg+5HS4eAJzri3NNVHXxBJGhbCBdUy972T+d0c6awN9sA44g5P6uPdwCCFA7HKg/yOYgN383Hyt6NYMct1JEIwjcefH1/7AxGmQ7WlKo5496R/9FnP7CO58fAGfrVLBxL5OBRSKopQjNq8g7+c7ubLzBdwyPkzejB+57NSraHPbHyzfcTt7Ox9d3Jf+LRrSquPJjBz5HG+OGcUZvY4n7ZBLuOvbdEK1dyBl+PsyaWV8xejDRzO2CHKHXMqTT6ZQJwoVl0kDIni3fM0bR7fmhgfnMZdk1vhb4j/mTI5IqOXmBeoTaAc6mSTqObjYoYi3pLN57FtMywOatibYCdi6jIwXnuODjY1pX2cnviqVpQIKRVHKUHIHv/JeXj5hJC8N/YBHli7jq1vrcc6GD9j0xBecfvV3wCTIupvBHe/m9O+PpOnt3/DF5mzmZ0zn57d6c0nyQtKm/MAjZ77MGWM3sg6I1nqZ79jSUIjAwnMZ0fY0nsnuwXfdn+ep5/pyc2ItN69MFhCBrIn89vhJHNj5PK6b4GZ1wMT0Z0HjDlx+nrZDvoeaFwvResL1L3Gb/SN9fryObcBCYEXmej58+BkWSgNyhgKJTQh8+xtrvt7KE58G6XF5kF612HalitR2MRFFUeoiW8ReKJOGd5L2rmHy4AaRrSIiX50md7uQZAYLvgvkwhsOkGYtEF+31+SJ1TsWPrNFZInIC43lOAzBPFPo9rJ8LyKRWjqiGEdELBEJiZU1TkbXQ1JpJTR7SQZ/IVJUq20rT5FI9h+y5OWT5JpOSHsT8fsC4otPksRggsT7GginrZQptd1MEXEkKiLFUjjlLXm+YwtJHXSiNBp4ohyd1lHObn2AfPHRs/LiJ+8Jra+RNO8JcsGBF8szby6WRbXdcKVKqEmZiqLsRIB0mPckd80OErnlfW5sHBtlJzWJgkRIyP2ZrFBj3nhnKK4+97Hg41Np/4/Bex3oAF2OpFPyW8zPz2Htxq2sAgYQK25fewxw3uD7QZcyYltjMrwHc8ITl3D3EAtfNc9T32mKKxCblLjzPIWslXNYNOUXvn7vFf5YspKlBV4KLUALoPld6I6F5ji4bci32sLhrelfrS2vHA0TMPH3P59rFp/Luas2YSEEmjbF7QajZLtzDjuUrMwMQv52NG3sI1DBcyr7DhVQKIqyEw1YSOHYt5mS9gY3nJsQK9pn55Ezdx6hDBAdiG8M/c7lpXEDdwomdrBtDeECMKLFEAmzsdhBfLU50qqBrGDGhVfz1ALYqHUkccCRnH2YRd76zSwK5REuKMbw+dE1ELFBB0MzEREc5+/hGk0D2xYMQ0crWfli2w66rqPpII5g2w6GroMGmqahaaChE4mEiQu4MV0FZG1bx9Rx09m8djFF2gbWrFvBmqVRcoshN85NWIvHNFzYmmA6No4j6JqOCNiOh+LGg7lyCEAh1KlLs05i67LTVsUnNyY+uXENt0epbiqgUBTl30LrKE4Hgv3o2BA0QmBkEvlzLnlAVD8U4gZy1r0DuajcZQUZsDmd3AhYxIHtIh+9dithhL8l7/kbOOtrSA+mkSCzkWmzuaT9bQgaYlugaRiahi0OGoKgYRgmtuOUBBmgazq2OOgiscLfmhbrfXAcBDB049+PlzyvI7GQzZZYsGHZzl/Pp2katu3BMHxIXGw/lwjYFgYCuomGoImFhU2BrycMv4H7m0PdCiaU/ZEKKBRF+bfCJizNdjNoqJvjEwAKIX8Vv0wNsYF6FEgctO/OfT3KewIHWMeUqXls1vyExYa0eA721Oby0Tz4ZBSPPrac1cXx6JpF1C5ENIgUOaCbmIYGmo7YFlqsmwFNN3AiRZR0O6DrRklPhYamSexxx479HUHTdMSKIiV/13UDR5zYv4uNphl/PW/UcdB0HduxY0GHCJquoekaOIJIySBJSRAimqABhq4RtSCc2op+JwZJq7X3VFH+pgIKRVH+LeV4+n9fyI+aWVIdNQe2zub3TJhHMrlJabQY3Ie25exuk4khG1m5MJPtksoWFyQcfyxD9Zo+6UjJzzys8Xcz7KbvmZSVAOTiAEU7RjemhW6ZiK5hAKIB4sTGd2yJxRMlib30kixdti0YArrEthdbiMULEuttcABDELzYaJhaEboWCzAQQWwn9rhjI3os0EA3wLIQPRbAoBnomiDoGCVDJ0URBwwbmlzA8e1q9A1VlHKpgEJRlDJpemkwYQMbYNE3rMqEXJ8X4lpw6PB65fQ2CAaZsOobJiyEdCMZgg1pf1KbPcjiuLdKWhjexMrZ8/F2Gkq/AxNxeXJAA8exMAwDtytKbm4+q5ZuoCgcRpNYzwMiiKahi4Cul4x36IhloRmlj5f0aJQ+rumIY4Omx4rYGwai+fH6fDRtGk9cXJBoNBLrddCJDbU4NrqugyY4juDYseEP3dSxolGkZChFNCEatfDYUXR/As6ZfblYVddS6ggVUCiKsgsGWDb2vDms0gAnCu0O4dj25W2vAdvg04+YqcM2w4QGAzitW20lvtHAM4wOD6zny1p5fUXZP6jEVoqi7JqdztyfCslzdPDGQ6OW9HZXsL2zhPnv5LDZjgdfCnTowmBVVlJR/tNUQKEoyq6lL+S3xSC2CdEEzB7J1K9o+/mf8dEKcJEK4TY0O6XtTrUxMqq1uYqi1DwVUCiKsgtRcidNID0LItIQEtpzVPf4CsZLN7Dt46nMjJpkkwrNu3LT0GDJosZiiKzkmtsXMe6Xmmq/oig1QQUUiqKUoXR1BMAqMifOZQsaflpCvZ707lT2XoUUQuanLP62kDmkYXnSaHLG8VyQWHKycX6GV4bwwvgtzPaW/RyKouybVEChKEoZStdvRMBZzvI5DgtpT643BTp34Phg2XsF2A6T3+O7JZBBK0hqxaDDmv9dUnvht6x6YxU07UWfLjVwGIqi1BgVUCiKUg4NYT2sncLqzbAGN/nJ8bTs0JByYwErCxbO5xcTMEPQvhfHdSit4WDDyrU8sSwIhzZkQFxNHYeiKDVBBRSKopRD0CiGhZOZmAOFwcaQ2oZmBzcqfxetELIiFIYBP9C8GS3qlwyerPmBETfO45OWN/Dt1d5ayEmhKEp1UgGFoihlKJlDIfkwdzorAQpXQINeHNO5gt2MQ+Dqa7koEY6MzCZx3bfc+dFyfn/uEm46dhh3689z+zcPMLScIZPaJzv9qShKZanEVoqilKFkDoUdIH+VRoYu0KAe7u5dObuCzIw2YLR6lrOvn0xk5J/8NH0cv8z9kXT7T6jflYveOYXrm9fIAeyhHXN/CrVZeURR9jWa/FV9RlEUpQz520lfmU3Y4ye1TROSKkpotaPodtKXZ1BYZOFp0oLk5CCJtVpqdPeIyF9lyRVF2TUVUCiKouykpAaYoii7Qc2hUBRFKVU0myWPHEDvUz7klCdWs4lYIfaaZ8f+yPmB30YNp+mrQqG69VPqOBVQKIqiUDINc/orZI9azMypRXz6exZWyK6dxjjFTH/1EkZ2G8JzN37Dhhkh5oZqpymKUllqUqaiKEqptFbktQJyGjDyrh40q5FsngIUARtYO20+n780jpGTfqc42UfvLbDFjoc4ixR1tlbqONVDoSiKUqr9pXS4+2M++bgH1/eoqRfVgGIiObMZe/NLZEuQL//4kJVzfyMYjEfEAL0Yu3bGXhSl0lTMqyiKQiwvKO4kWgw9hRY1/uqpuBPP4s5pZ5X8PR2YRkKxRj0d0EWdrZU6T/VQKIqiAHUr54QADj5Dw6W7QHxEVQ+FUsepgEJRFCU8G1b9xqKcXLb89Y+1eQX3ABpigiVhMKNo0VpsjqJUggooFEXZrxUteY+Hu/fgqMGnc2Dbx+l64WwmF0Jtnx7FdoEIpq6DK0CxWjaq1HFqVE5RlP3XtumMHP4k2mczeKpLG5YefS6vvPk6ww7dSt55O2wXXQRrFvDWt5tYvX4DeXaUiKNh4mBhkBjnJRSxEMehKGLh0h10lwe/24WNQSDgIRIVopZOvN9hdfyxnHBSd45rXN5Ai4lm5GJZsRJtOAWYWo0sOVGUPaYCCkVR9k/WSj48YwTbO/bjki5NCDjZSNF2PDjYOREs3H+fII1ssn7/gl+nWRRGHQLJCSQmJIFEiYbDrNuYhdfnw6WDbpiATiQUIlSYTyRqszEcwhYHA4NMw2J9wz6sXQ9a43IbhxX1oWsaGm4QD+G6NMVDUcqgAgpFUfZDc2DFY5y55ihuuP8S2rEK1/pJjJq1jl/cp3HQQW4i7HCC1AeQfP4A3jm/ptrnYLoMEAeIAOBVkzKVOk4FFIqi7H8kAVJP5P3xZ9K2IbiYQP4bt/NddADhtodwR1/w12q1UQeIYjgWOi7QPBSqHgqljlMBhaIo+x+tNaS15tS0kpOgM5n0zwtZEl+fwA1ncLwHancZqRewiWoubDRwMvC7GtViexRl19QqD0VR9lsuQCMPvtzMGwuAhGacdVxdODFGATeiaRiGCVaAwtpvlKJUSPVQKIqyHysCVjH9rcmx/BOHXMYFqWVsZi+C5bMY9dF6MgoLCaYGKQ4LuuEQCtu4TY2wBaZmEY7YeDwGRSEHtylYlhAX8GNhUBwSvHqYxd4jOP/8QQwrd5WHDViYhhCJRMCKkKCWjSp1nAooFEXZj4UhYzYfjofF3n4MPqYJB5hQvD1MNJqNq1EDfDig50PmKpZvXMuqdZshGIfHHcAkApqJywDb0TBNcBwNUwc0E90AK+qg2VHywhG8ukFyvEFxva5sz69oUMUBDLwaGKKBOxVL9VAodZwKKBRF2X/Zy+H7V3hXP4WsFoP4+STIB7J//JEZs9fT97EraeXW8Wl9YEAfRg2oiUYJYAAN0EzBwSKQFAHLA+6aeH1F2TMq5lUUZf+Vt5T832eS5WuIp1tHUtxFhMjkucc/pKjvIdR318bUTAsQCnNyCNmCJRqFW7azTi0bVeo41UOhKMp+SQDNFYQUIAFaaznI1G/4+fXn+KTj/Zx1amfKmk5RPSJAATmzJ/PDl5/y+6JFLFm2lD/ybSzDgXeHcd6Xybx61JEcfcJRdOjVg4NToUGNtU9Rdk0FFIqi7Jc0AF9rggOvov43GqvnTubXJ2cT6DKcN+8YTK8ab1ExGxbNYtHseRQ4GpornoiZje2NI84UDCuHxb/PIqBrZLjqc9CRTWu8hYpSEU1E1NxhRVH2b+Fctm/KZKunJU0aaCSqwWBF2W0qoFAURVEUZa+pOFxRFAVikyoURdljKqBQFEWB2s20rSj/ASqgUBRFURRlr6mAQlEURVGUvaYCCkVRFEVR9poKKBRFURRF2WsqoFAURVEUZa+pgEJRFEVRlL32f/q9KS05Pj9VAAAAAElFTkSuQmCC)\n",
        "\n",
        "\n",
        "\n"
      ],
      "metadata": {
        "id": "cNro13Q4Ac9r"
      }
    },
    {
      "cell_type": "markdown",
      "source": [
        "\n",
        "# **문제 2. 선형회귀 모델 만들기**\n",
        "\n",
        "---\n",
        "\n",
        "### **데이터셋 : The Boston Housing Dataset**\n",
        "### **url :** https://lib.stat.cmu.edu/datasets/boston\n",
        "\n"
      ],
      "metadata": {
        "id": "DupjHZe5uxvb"
      }
    },
    {
      "cell_type": "markdown",
      "source": [
        "## **모델**\n",
        "#### **입력변수 :** RM (평균 객실 수)\n",
        "#### **출력변수 :** PRICE (부동산 가격)"
      ],
      "metadata": {
        "id": "kG-jASFzwFCR"
      }
    },
    {
      "cell_type": "markdown",
      "source": [
        "##  2 - 1) 필요 라이브러리 선언"
      ],
      "metadata": {
        "id": "ARXbDhMK6cI9"
      }
    },
    {
      "cell_type": "code",
      "source": [
        "import pandas as pd\n",
        "import numpy as np\n",
        "import matplotlib.pyplot as plt"
      ],
      "metadata": {
        "id": "XOdK3ssaxqyY"
      },
      "execution_count": null,
      "outputs": []
    },
    {
      "cell_type": "markdown",
      "source": [
        "##   2 - 2) 학습용 데이터 준비"
      ],
      "metadata": {
        "id": "XqMuj9Jj6KIS"
      }
    },
    {
      "cell_type": "code",
      "source": [
        "# csv 파일\n",
        "data = np.genfromtxt('/content/drive/MyDrive/Colab Notebooks/Github/ML_Session_week3/housing.csv')\n",
        "# 6번째 RM\n",
        "x = data[:, 5]\n",
        "x = x.reshape(-1, 1)\n",
        "# 더미 변수 1 추가\n",
        "x = np.insert(x, 0, 1.0, axis=1)\n",
        "# 14번째 PRICE\n",
        "yt = data[:,13]"
      ],
      "metadata": {
        "id": "wbmdsj6rOTUG"
      },
      "execution_count": null,
      "outputs": []
    },
    {
      "cell_type": "markdown",
      "source": [
        "## 2 - 3) 입력값 정답값 확인"
      ],
      "metadata": {
        "id": "-rCnoHtA7Vfl"
      }
    },
    {
      "cell_type": "markdown",
      "source": [
        "### 2.3.0 ) [ x0, x1 ]값 5개 출력"
      ],
      "metadata": {
        "id": "TSgw6Jx4-0r3"
      }
    },
    {
      "cell_type": "code",
      "source": [
        "# [ x0, x1 ]값 5개 출력\n",
        "print(x[:5,:])"
      ],
      "metadata": {
        "id": "kxuQvIv0xq8r"
      },
      "execution_count": null,
      "outputs": []
    },
    {
      "cell_type": "markdown",
      "source": [
        "### 2.3.1 ) 정답값 yt 5개 표시"
      ],
      "metadata": {
        "id": "hy_5yqMQ-8FT"
      }
    },
    {
      "cell_type": "code",
      "source": [
        "# 정답값 yt 5개 표시\n",
        "print(yt[:5])"
      ],
      "metadata": {
        "id": "x6dZWHAB_B_z"
      },
      "execution_count": null,
      "outputs": []
    },
    {
      "cell_type": "markdown",
      "source": [
        "## 2 - 4 ) 방 개수와 집 가격의 관계를 산점도로 보기\n",
        "(x축 이름 ROOM, y축 이름 PRICE)"
      ],
      "metadata": {
        "id": "crJ8X9mfmk56"
      }
    },
    {
      "cell_type": "code",
      "source": [
        "plt.scatter(x[ : ,1 ], yt, s = 10, c = 'b')\n",
        "plt.xlabel('ROOM', fontsize = 14)\n",
        "plt.ylabel('PRICE', fontsize = 14)\n",
        "plt.show()"
      ],
      "metadata": {
        "id": "GhsrRABamiC4"
      },
      "execution_count": null,
      "outputs": []
    },
    {
      "cell_type": "markdown",
      "source": [
        "## 2 - 5 ) 경사하강법에서의 초기화 처리\n",
        "( 반복 횟수는 50000번, 학습률은 0.01로 설정 )"
      ],
      "metadata": {
        "id": "R2QkVRMl7ttu"
      }
    },
    {
      "cell_type": "code",
      "source": [
        "# 데이터 전체 건수\n",
        "M = x.shape[0]\n",
        "\n",
        "# 입력 데이터의 차수(더미)\n",
        "D = x.shape[1]\n",
        "\n",
        "# 반복 횟수\n",
        "iters = 50000\n",
        "\n",
        "# 학습률\n",
        "alpha = 0.01\n",
        "\n",
        "# 가중치 벡터의 초깃값(모든 값을 1로 한다)\n",
        "w = np.ones(D)\n",
        "\n",
        "# 평가 결과 기록(손실함수의 값만 기록)\n",
        "history = np.zeros((0,2))"
      ],
      "metadata": {
        "id": "lSNz7Fqb8Ku2"
      },
      "execution_count": null,
      "outputs": []
    },
    {
      "cell_type": "markdown",
      "source": [
        "## 2 - 6 ) 예측함수 (1, x)의 값에서 예측값 yp를 계산"
      ],
      "metadata": {
        "id": "Si7CK6uM7gBx"
      }
    },
    {
      "cell_type": "code",
      "source": [
        "def pred(x, w):\n",
        "    return(x @ w)"
      ],
      "metadata": {
        "id": "ppNRmFmD7o_-"
      },
      "execution_count": null,
      "outputs": []
    },
    {
      "cell_type": "markdown",
      "source": [
        "## 2 - 7 ) 반복 루프\n",
        "( 반복횟수가 1000의 배수일 때마다 계산 결과 기록하고 화면에 출력하시오. )"
      ],
      "metadata": {
        "id": "ah5sU1qG8N3G"
      }
    },
    {
      "cell_type": "code",
      "source": [
        "for k in range(iters):\n",
        "\n",
        "    # 예측값 계산\n",
        "    yp = pred(x, w)\n",
        "\n",
        "    # 오차 계산\n",
        "    yd = yp - yt\n",
        "\n",
        "    # 경사하강법 적용\n",
        "    w = w - alpha * (x.T @ yd) / M\n",
        "\n",
        "    # 학습 곡선을 그리기 위한 데이터 계산 및 저장\n",
        "    if (k % 1000 == 0):\n",
        "        # 손실함숫값의 계산\n",
        "        loss = np.mean(yd ** 2) / 2\n",
        "        # 계산 결과의 기록\n",
        "        history = np.vstack((history, np.array([k, loss])))\n",
        "        # 화면 표시\n",
        "        print( \"iter = %d loss = %f\" % (k, loss))"
      ],
      "metadata": {
        "id": "g4iW81yV8RPy"
      },
      "execution_count": null,
      "outputs": []
    },
    {
      "cell_type": "markdown",
      "source": [
        "## 2 - 8 ) 최종 손실함수 초깃값과 최종값 출력\n",
        "\n"
      ],
      "metadata": {
        "id": "oORNHExI8my5"
      }
    },
    {
      "cell_type": "code",
      "source": [
        "print('손실함수 초깃값: %f' %history[0,1])\n",
        "print('손실함수 최종값: %f' %history[-1,1])"
      ],
      "metadata": {
        "id": "LZjPVPOh8vDm"
      },
      "execution_count": null,
      "outputs": []
    },
    {
      "cell_type": "markdown",
      "source": [
        "## 2 - 9 ) 학습 곡선을 표시\n",
        "( x축 이름 iter, y축 이름 loss로 설정 )"
      ],
      "metadata": {
        "id": "3coXJcz28081"
      }
    },
    {
      "cell_type": "code",
      "source": [
        "plt.xlabel('iter')\n",
        "plt.ylabel('loss')\n",
        "plt.plot(history[1:,0],history[1:,1])\n",
        "plt.show()"
      ],
      "metadata": {
        "id": "lJWNMP-F80mV"
      },
      "execution_count": null,
      "outputs": []
    }
  ]
}